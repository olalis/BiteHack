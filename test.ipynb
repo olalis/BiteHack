{
 "cells": [
  {
   "cell_type": "code",
   "execution_count": 1,
   "metadata": {},
   "outputs": [
    {
     "ename": "error",
     "evalue": "unpack requires a buffer of 4 bytes",
     "output_type": "error",
     "traceback": [
      "\u001b[0;31m---------------------------------------------------------------------------\u001b[0m",
      "\u001b[0;31merror\u001b[0m                                     Traceback (most recent call last)",
      "\u001b[1;32m/home/ola/Pulpit/BiteHack/test.ipynb Komórka 1\u001b[0m in \u001b[0;36m<cell line: 13>\u001b[0;34m()\u001b[0m\n\u001b[1;32m     <a href='vscode-notebook-cell:/home/ola/Pulpit/BiteHack/test.ipynb#W0sZmlsZQ%3D%3D?line=12'>13</a>\u001b[0m \u001b[39mif\u001b[39;00m val[\u001b[39m0\u001b[39m:\u001b[39m4\u001b[39m] \u001b[39m==\u001b[39m \u001b[39mb\u001b[39m\u001b[39m'\u001b[39m\u001b[39m\\xaa\u001b[39;00m\u001b[39m\\xaa\u001b[39;00m\u001b[39m\\xaa\u001b[39;00m\u001b[39m\\xaa\u001b[39;00m\u001b[39m'\u001b[39m:\n\u001b[1;32m     <a href='vscode-notebook-cell:/home/ola/Pulpit/BiteHack/test.ipynb#W0sZmlsZQ%3D%3D?line=13'>14</a>\u001b[0m     temp_blanket_data_list\u001b[39m.\u001b[39mappend(struct\u001b[39m.\u001b[39munpack(\u001b[39m'\u001b[39m\u001b[39m>f\u001b[39m\u001b[39m'\u001b[39m, val[\u001b[39m4\u001b[39m:\u001b[39m8\u001b[39m])[\u001b[39m0\u001b[39m]) \u001b[39m#Termomert1\u001b[39;00m\n\u001b[0;32m---> <a href='vscode-notebook-cell:/home/ola/Pulpit/BiteHack/test.ipynb#W0sZmlsZQ%3D%3D?line=14'>15</a>\u001b[0m     temp_blanket_data_list\u001b[39m.\u001b[39mappend(struct\u001b[39m.\u001b[39;49munpack(\u001b[39m'\u001b[39;49m\u001b[39m>f\u001b[39;49m\u001b[39m'\u001b[39;49m, val[\u001b[39m8\u001b[39;49m:\u001b[39m12\u001b[39;49m])[\u001b[39m0\u001b[39m]) \u001b[39m#Termomert2\u001b[39;00m\n\u001b[1;32m     <a href='vscode-notebook-cell:/home/ola/Pulpit/BiteHack/test.ipynb#W0sZmlsZQ%3D%3D?line=15'>16</a>\u001b[0m     temp_blanket_data_list\u001b[39m.\u001b[39mappend(struct\u001b[39m.\u001b[39munpack(\u001b[39m'\u001b[39m\u001b[39m>f\u001b[39m\u001b[39m'\u001b[39m, val[\u001b[39m12\u001b[39m:\u001b[39m16\u001b[39m])[\u001b[39m0\u001b[39m]) \u001b[39m#Termomert3\u001b[39;00m\n\u001b[1;32m     <a href='vscode-notebook-cell:/home/ola/Pulpit/BiteHack/test.ipynb#W0sZmlsZQ%3D%3D?line=16'>17</a>\u001b[0m     temp_blanket_data_list\u001b[39m.\u001b[39mappend(struct\u001b[39m.\u001b[39munpack(\u001b[39m'\u001b[39m\u001b[39m>f\u001b[39m\u001b[39m'\u001b[39m, val[\u001b[39m16\u001b[39m:\u001b[39m20\u001b[39m])[\u001b[39m0\u001b[39m]) \u001b[39m#Barometr\u001b[39;00m\n",
      "\u001b[0;31merror\u001b[0m: unpack requires a buffer of 4 bytes"
     ]
    }
   ],
   "source": [
    "import struct\n",
    "\n",
    "val = b'\\x41\\xc2\\x66\\x66\\x41'\n",
    "val2 = b'\\x66\\x66\\xc2\\x41'\n",
    "\n",
    "\n",
    "[value] = struct.unpack('>f', val[0:4])\n",
    "[value2] = struct.unpack('>f', val[1:5])\n",
    "\n",
    "\n",
    "val = b'\\xaa\\xaa\\xaa\\xaa\\x41\\xc2\\x66\\x66\\x41'\n",
    "temp_blanket_data_list = []\n",
    "if val[0:4] == b'\\xaa\\xaa\\xaa\\xaa':\n",
    "    temp_blanket_data_list.append(struct.unpack('>f', val[4:8])[0]) #Termomert1\n",
    "    temp_blanket_data_list.append(struct.unpack('>f', val[8:12])[0]) #Termomert2\n",
    "    temp_blanket_data_list.append(struct.unpack('>f', val[12:16])[0]) #Termomert3\n",
    "    temp_blanket_data_list.append(struct.unpack('>f', val[16:20])[0]) #Barometr\n",
    "    temp_blanket_data_list.append(struct.unpack('>f', val[20:24])[0]) #Wilgtnosc\n",
    "    temp_blanket_data_list.append(struct.unpack('>b', val[24])[0]) #helpMe\n",
    "    # temp_blanket_data_list.append(struct.unpack('>f', val[25:])[0]) #ADC\n",
    "\n",
    "print(temp_blanket_data_list)\n",
    "\n",
    "# print(value2)"
   ]
  },
  {
   "cell_type": "code",
   "execution_count": null,
   "metadata": {},
   "outputs": [
    {
     "name": "stdout",
     "output_type": "stream",
     "text": [
      "23.200000762939453\n"
     ]
    }
   ],
   "source": [
    "val = b'\\xaa\\xaa\\xaa\\xaa\\x9a\\x99\\xb9\\x41'\n",
    "[value] = struct.unpack('>f', val[7:3:-1])\n",
    "print(value)"
   ]
  }
 ],
 "metadata": {
  "kernelspec": {
   "display_name": "Python 3",
   "language": "python",
   "name": "python3"
  },
  "language_info": {
   "codemirror_mode": {
    "name": "ipython",
    "version": 3
   },
   "file_extension": ".py",
   "mimetype": "text/x-python",
   "name": "python",
   "nbconvert_exporter": "python",
   "pygments_lexer": "ipython3",
   "version": "3.8.10"
  },
  "orig_nbformat": 4,
  "vscode": {
   "interpreter": {
    "hash": "916dbcbb3f70747c44a77c7bcd40155683ae19c65e1c03b4aa3499c5328201f1"
   }
  }
 },
 "nbformat": 4,
 "nbformat_minor": 2
}
